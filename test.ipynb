{
 "cells": [
  {
   "cell_type": "markdown",
   "metadata": {},
   "source": [
    "DATA FORMATTING LIBRARIES"
   ]
  },
  {
   "cell_type": "code",
   "execution_count": 114,
   "metadata": {},
   "outputs": [],
   "source": [
    "import pandas as pd\n",
    "import numpy as np\n",
    "import seaborn as sb"
   ]
  },
  {
   "cell_type": "markdown",
   "metadata": {},
   "source": [
    "PREPROCESSING LIBRARIES"
   ]
  },
  {
   "cell_type": "code",
   "execution_count": 115,
   "metadata": {},
   "outputs": [],
   "source": [
    "import matplotlib.pyplot as plt\n",
    "from sklearn.model_selection import train_test_split\n",
    "from sklearn.feature_selection import RFE\n",
    "from sklearn.pipeline import make_pipeline\n",
    "from sklearn.preprocessing import StandardScaler\n",
    "from sklearn.metrics import confusion_matrix, roc_auc_score, f1_score, ConfusionMatrixDisplay"
   ]
  },
  {
   "cell_type": "markdown",
   "metadata": {},
   "source": [
    "CLASSIFICATION ALGORITHM LIBRARIES"
   ]
  },
  {
   "cell_type": "code",
   "execution_count": 116,
   "metadata": {},
   "outputs": [],
   "source": [
    "from sklearn.ensemble import RandomForestClassifier\n",
    "from sklearn.svm import SVC\n",
    "from sklearn.tree import DecisionTreeClassifier\n",
    "from sklearn.neighbors import KNeighborsClassifier"
   ]
  },
  {
   "cell_type": "markdown",
   "metadata": {},
   "source": [
    "DATA CONVERSION TO TRAIN-TEST-SPLIT"
   ]
  },
  {
   "cell_type": "code",
   "execution_count": 117,
   "metadata": {},
   "outputs": [
    {
     "name": "stdout",
     "output_type": "stream",
     "text": [
      "Index(['name', 'MDVP:Fo(Hz)', 'MDVP:Fhi(Hz)', 'MDVP:Flo(Hz)', 'MDVP:Jitter(%)',\n",
      "       'MDVP:Jitter(Abs)', 'MDVP:RAP', 'MDVP:PPQ', 'Jitter:DDP',\n",
      "       'MDVP:Shimmer', 'MDVP:Shimmer(dB)', 'Shimmer:APQ3', 'Shimmer:APQ5',\n",
      "       'MDVP:APQ', 'Shimmer:DDA', 'NHR', 'HNR', 'status', 'RPDE', 'DFA',\n",
      "       'spread1', 'spread2', 'D2', 'PPE'],\n",
      "      dtype='object')\n"
     ]
    }
   ],
   "source": [
    "raw_data = pd.read_csv(\"pd_vocal_data.csv\")\n",
    "data = pd.DataFrame(data = raw_data)\n",
    "print(data.columns)\n",
    "\n",
    "from sklearn.model_selection import train_test_split\n",
    "\n",
    "X = data[[\"MDVP:Fo(Hz)\", \"MDVP:Fhi(Hz)\", \"MDVP:Flo(Hz)\", \"MDVP:Jitter(%)\",\n",
    "       \"MDVP:Jitter(Abs)\", \"MDVP:RAP\", \"MDVP:PPQ\", \"Jitter:DDP\",\n",
    "       \"MDVP:Shimmer\", \"MDVP:Shimmer(dB)\", \"Shimmer:APQ3\", \"Shimmer:APQ5\",\n",
    "       \"MDVP:APQ\", \"Shimmer:DDA\", \"NHR\", \"HNR\", \"RPDE\", \"DFA\",\n",
    "       \"spread1\", \"spread2\", \"D2\", \"PPE\"]]\n",
    "y = np.array(data[[\"status\"]])\n",
    "\n",
    "X_train, X_test, y_train, y_test = train_test_split(X, y, test_size=0.33, random_state=42)"
   ]
  },
  {
   "cell_type": "markdown",
   "metadata": {},
   "source": [
    "CLASSIFIER PARAMETERS"
   ]
  },
  {
   "cell_type": "code",
   "execution_count": 118,
   "metadata": {},
   "outputs": [],
   "source": [
    "rfClassifier = RandomForestClassifier(n_estimators = 70, random_state = 101)\n",
    "svcClassifier = make_pipeline(StandardScaler(), SVC())"
   ]
  },
  {
   "cell_type": "markdown",
   "metadata": {},
   "source": [
    "RANDOM FOREST CONTROL TEST"
   ]
  },
  {
   "cell_type": "code",
   "execution_count": 119,
   "metadata": {},
   "outputs": [
    {
     "name": "stdout",
     "output_type": "stream",
     "text": [
      "0.9600000000000001\n"
     ]
    },
    {
     "data": {
      "text/plain": [
       "<AxesSubplot:title={'center':'Random Forest Control Group  Matrix'}>"
      ]
     },
     "execution_count": 119,
     "metadata": {},
     "output_type": "execute_result"
    },
    {
     "data": {
      "image/png": "[encoded data removed]",
      "text/plain": [
       "<Figure size 432x288 with 2 Axes>"
      ]
     },
     "metadata": {
      "needs_background": "light"
     },
     "output_type": "display_data"
    }
   ],
   "source": [
    "rfClassifier.fit(X_train, y_train.ravel())\n",
    "rf_control_predictions = rfClassifier.predict(X_test)\n",
    "print(f1_score(y_test, rf_control_predictions))\n",
    "\n",
    "rf_confusion_matrix = confusion_matrix(y_pred = rf_control_predictions,y_true= y_test, labels=rfClassifier.classes_)\n",
    "\n",
    "ax=plt.axes()\n",
    "ax.set_title(\"Random Forest Control Group  Matrix\")\n",
    "sb.heatmap(rf_confusion_matrix, cmap= 'Blues', annot=True, xticklabels=['Actual Negative', 'Actual Positive'], yticklabels=['Predicted Negative', 'Predicted Positive'], ax= ax)"
   ]
  },
  {
   "cell_type": "markdown",
   "metadata": {},
   "source": [
    "SUPPORT VECTOR MACHINE CONTROL TEST"
   ]
  },
  {
   "cell_type": "code",
   "execution_count": 120,
   "metadata": {},
   "outputs": [
    {
     "name": "stdout",
     "output_type": "stream",
     "text": [
      "0.923076923076923\n"
     ]
    },
    {
     "data": {
      "text/plain": [
       "<AxesSubplot:title={'center':'Support Vector Machine Control Group Confusion Matrix'}>"
      ]
     },
     "execution_count": 120,
     "metadata": {},
     "output_type": "execute_result"
    },
    {
     "data": {
      "image/png": "[encoded data removed]",
      "text/plain": [
       "<Figure size 432x288 with 2 Axes>"
      ]
     },
     "metadata": {
      "needs_background": "light"
     },
     "output_type": "display_data"
    }
   ],
   "source": [
    "svcClassifier.fit(X_train, y_train.ravel())\n",
    "svc_control_predictions = svcClassifier.predict(X_test)\n",
    "print(f1_score(y_test, svc_control_predictions))\n",
    "\n",
    "svc_confusion_matrix = confusion_matrix(svc_control_predictions, y_test, labels=svcClassifier.classes_)\n",
    "ax=plt.axes()\n",
    "ax.set_title(\"Support Vector Machine Control Group Confusion Matrix\")\n",
    "sb.heatmap(svc_confusion_matrix, cmap= 'Blues', annot=True, xticklabels=['Actual Negative', 'Actual Positive'], yticklabels=['Predicted Negative', 'Predicted Positive'], ax = ax)"
   ]
  },
  {
   "cell_type": "markdown",
   "metadata": {},
   "source": [
    "ACTUAL TESTING"
   ]
  },
  {
   "cell_type": "code",
   "execution_count": 121,
   "metadata": {},
   "outputs": [],
   "source": [
    "accuracy_rates_rf = []"
   ]
  },
  {
   "cell_type": "markdown",
   "metadata": {},
   "source": [
    "LOOP"
   ]
  },
  {
   "cell_type": "code",
   "execution_count": 122,
   "metadata": {},
   "outputs": [],
   "source": [
    "for i in range(len(X.columns)):\n",
    "    rfClassifier.fit(X_train.iloc[:,[i]], y_train.ravel())\n",
    "    rf_predictions2 = rfClassifier.predict(X_test.iloc[:, [i]])\n",
    "    f1_score_i = f1_score(y_test, rf_predictions2)\n",
    "    accuracy_rates_rf.append(f1_score_i)"
   ]
  },
  {
   "cell_type": "code",
   "execution_count": 123,
   "metadata": {},
   "outputs": [],
   "source": [
    "accuracy_rates_svc = []"
   ]
  },
  {
   "cell_type": "code",
   "execution_count": 124,
   "metadata": {},
   "outputs": [],
   "source": [
    "for i in range(len(X.columns)):\n",
    "    svcClassifier.fit(X_train.iloc[:,[i]], y_train.ravel())\n",
    "    svc_predictions2 = svcClassifier.predict(X_test.iloc[:, [i]])\n",
    "    f1_score_i = f1_score(y_test, svc_predictions2)\n",
    "    accuracy_rates_svc.append(f1_score_i)"
   ]
  },
  {
   "cell_type": "markdown",
   "metadata": {},
   "source": [
    "PLOTTING RESULTS"
   ]
  },
  {
   "cell_type": "code",
   "execution_count": 144,
   "metadata": {},
   "outputs": [
    {
     "data": {
      "text/plain": [
       "<matplotlib.legend.Legend at 0x286aaef40>"
      ]
     },
     "execution_count": 144,
     "metadata": {},
     "output_type": "execute_result"
    },
    {
     "data": {
      "image/png": "[encoded data removed]",
      "text/plain": [
       "<Figure size 432x288 with 1 Axes>"
      ]
     },
     "metadata": {},
     "output_type": "display_data"
    }
   ],
   "source": [
    "r = {\"RandomForestResults\": accuracy_rates_rf, \"SVMResults\": accuracy_rates_svc}\n",
    "results = pd.DataFrame(r)\n",
    "results.mul(100)\n",
    "sb.lineplot(data = results, palette=['r', 'b'])\n",
    "plt.xlabel(\"Symptoms Considered\")\n",
    "plt.ylabel(\"Consequent Accuracy Rates\")\n",
    "plt.title(\"Model Accuracies as a Result of Symptom Count\")\n",
    "plt.legend(loc = \"upper center\")"
   ]
  },
  {
   "cell_type": "markdown",
   "metadata": {},
   "source": [
    "TABLE FORMAT"
   ]
  },
  {
   "cell_type": "code",
   "execution_count": 149,
   "metadata": {},
   "outputs": [
    {
     "data": {
      "text/html": [
       "<div>\n",
       "<style scoped>\n",
       "    .dataframe tbody tr th:only-of-type {\n",
       "        vertical-align: middle;\n",
       "    }\n",
       "\n",
       "    .dataframe tbody tr th {\n",
       "        vertical-align: top;\n",
       "    }\n",
       "\n",
       "    .dataframe thead th {\n",
       "        text-align: right;\n",
       "    }\n",
       "</style>\n",
       "<table border=\"1\" class=\"dataframe\">\n",
       "  <thead>\n",
       "    <tr style=\"text-align: right;\">\n",
       "      <th></th>\n",
       "      <th>RandomForestResults</th>\n",
       "      <th>SVMResults</th>\n",
       "    </tr>\n",
       "  </thead>\n",
       "  <tbody>\n",
       "    <tr>\n",
       "      <th>0</th>\n",
       "      <td>0.857143</td>\n",
       "      <td>0.884615</td>\n",
       "    </tr>\n",
       "    <tr>\n",
       "      <th>1</th>\n",
       "      <td>0.840000</td>\n",
       "      <td>0.846847</td>\n",
       "    </tr>\n",
       "    <tr>\n",
       "      <th>2</th>\n",
       "      <td>0.868687</td>\n",
       "      <td>0.884615</td>\n",
       "    </tr>\n",
       "    <tr>\n",
       "      <th>3</th>\n",
       "      <td>0.871287</td>\n",
       "      <td>0.849558</td>\n",
       "    </tr>\n",
       "    <tr>\n",
       "      <th>4</th>\n",
       "      <td>0.891089</td>\n",
       "      <td>0.849558</td>\n",
       "    </tr>\n",
       "    <tr>\n",
       "      <th>5</th>\n",
       "      <td>0.824742</td>\n",
       "      <td>0.849558</td>\n",
       "    </tr>\n",
       "    <tr>\n",
       "      <th>6</th>\n",
       "      <td>0.741573</td>\n",
       "      <td>0.849558</td>\n",
       "    </tr>\n",
       "    <tr>\n",
       "      <th>7</th>\n",
       "      <td>0.828283</td>\n",
       "      <td>0.849558</td>\n",
       "    </tr>\n",
       "    <tr>\n",
       "      <th>8</th>\n",
       "      <td>0.752475</td>\n",
       "      <td>0.849558</td>\n",
       "    </tr>\n",
       "    <tr>\n",
       "      <th>9</th>\n",
       "      <td>0.796117</td>\n",
       "      <td>0.849558</td>\n",
       "    </tr>\n",
       "    <tr>\n",
       "      <th>10</th>\n",
       "      <td>0.820000</td>\n",
       "      <td>0.849558</td>\n",
       "    </tr>\n",
       "    <tr>\n",
       "      <th>11</th>\n",
       "      <td>0.755102</td>\n",
       "      <td>0.849558</td>\n",
       "    </tr>\n",
       "    <tr>\n",
       "      <th>12</th>\n",
       "      <td>0.848485</td>\n",
       "      <td>0.849558</td>\n",
       "    </tr>\n",
       "    <tr>\n",
       "      <th>13</th>\n",
       "      <td>0.815534</td>\n",
       "      <td>0.849558</td>\n",
       "    </tr>\n",
       "    <tr>\n",
       "      <th>14</th>\n",
       "      <td>0.836735</td>\n",
       "      <td>0.849558</td>\n",
       "    </tr>\n",
       "    <tr>\n",
       "      <th>15</th>\n",
       "      <td>0.804124</td>\n",
       "      <td>0.857143</td>\n",
       "    </tr>\n",
       "    <tr>\n",
       "      <th>16</th>\n",
       "      <td>0.755556</td>\n",
       "      <td>0.849558</td>\n",
       "    </tr>\n",
       "    <tr>\n",
       "      <th>17</th>\n",
       "      <td>0.752688</td>\n",
       "      <td>0.849558</td>\n",
       "    </tr>\n",
       "    <tr>\n",
       "      <th>18</th>\n",
       "      <td>0.918367</td>\n",
       "      <td>0.920000</td>\n",
       "    </tr>\n",
       "    <tr>\n",
       "      <th>19</th>\n",
       "      <td>0.857143</td>\n",
       "      <td>0.843137</td>\n",
       "    </tr>\n",
       "    <tr>\n",
       "      <th>20</th>\n",
       "      <td>0.796117</td>\n",
       "      <td>0.849558</td>\n",
       "    </tr>\n",
       "    <tr>\n",
       "      <th>21</th>\n",
       "      <td>0.875000</td>\n",
       "      <td>0.920000</td>\n",
       "    </tr>\n",
       "  </tbody>\n",
       "</table>\n",
       "</div>"
      ],
      "text/plain": [
       "    RandomForestResults  SVMResults\n",
       "0              0.857143    0.884615\n",
       "1              0.840000    0.846847\n",
       "2              0.868687    0.884615\n",
       "3              0.871287    0.849558\n",
       "4              0.891089    0.849558\n",
       "5              0.824742    0.849558\n",
       "6              0.741573    0.849558\n",
       "7              0.828283    0.849558\n",
       "8              0.752475    0.849558\n",
       "9              0.796117    0.849558\n",
       "10             0.820000    0.849558\n",
       "11             0.755102    0.849558\n",
       "12             0.848485    0.849558\n",
       "13             0.815534    0.849558\n",
       "14             0.836735    0.849558\n",
       "15             0.804124    0.857143\n",
       "16             0.755556    0.849558\n",
       "17             0.752688    0.849558\n",
       "18             0.918367    0.920000\n",
       "19             0.857143    0.843137\n",
       "20             0.796117    0.849558\n",
       "21             0.875000    0.920000"
      ]
     },
     "execution_count": 149,
     "metadata": {},
     "output_type": "execute_result"
    }
   ],
   "source": [
    "results"
   ]
  }
 ],
 "metadata": {
  "kernelspec": {
   "display_name": "Python 3.9.12 ('tensorflow')",
   "language": "python",
   "name": "python3"
  },
  "language_info": {
   "codemirror_mode": {
    "name": "ipython",
    "version": 3
   },
   "file_extension": ".py",
   "mimetype": "text/x-python",
   "name": "python",
   "nbconvert_exporter": "python",
   "pygments_lexer": "ipython3",
   "version": "3.9.12"
  },
  "orig_nbformat": 4,
  "vscode": {
   "interpreter": {
    "hash": "4bd624a0593993fe43ac4046b27b898fb2ef75c21c08f81e89e64ea0f51df676"
   }
  }
 },
 "nbformat": 4,
 "nbformat_minor": 2
}
